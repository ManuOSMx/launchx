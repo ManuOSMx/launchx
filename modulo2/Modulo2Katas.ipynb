{
 "cells": [
  {
   "cell_type": "markdown",
   "metadata": {},
   "source": [
    "# Modulo 2 - Launch X\n",
    "Manuel Ortiz"
   ]
  },
  {
   "cell_type": "markdown",
   "metadata": {},
   "source": [
    "## Virtualenv\n",
    "Para activar el virtual env en Windows es:\n",
    "\n",
    "**env\\Scripts\\activate**"
   ]
  },
  {
   "cell_type": "markdown",
   "metadata": {},
   "source": [
    "Comando:\n",
    "```\n",
    "pip freeze\n",
    "```\n",
    "```\n",
    "pip install python-dateutil\n",
    "```\n",
    "```\n",
    "pip freeze\n",
    "```\n",
    "Respuesta de cmd:\n",
    "```\n",
    "python-dateutil==2.8.2\n",
    "six==1.16.0\n",
    "```\n",
    "Para salir de VirtualEnviroment\n",
    "```\n",
    "deactivate\n",
    "```\n"
   ]
  }
 ],
 "metadata": {
  "language_info": {
   "name": "python"
  },
  "orig_nbformat": 4
 },
 "nbformat": 4,
 "nbformat_minor": 2
}
