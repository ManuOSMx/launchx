{
 "cells": [
  {
   "cell_type": "markdown",
   "metadata": {},
   "source": [
    "# Modulo 9\n",
    "Manuel Ortiz "
   ]
  },
  {
   "cell_type": "markdown",
   "metadata": {},
   "source": [
    "### Ejercicio 1 \n",
    "\n",
    "##### Los argumentos requeridos en las funciones se utilizan cuando las funciones necesitan que esos argumentos funcionen correctamente. En este ejercicio, construirás un informe de combustible que requiere información de varias ubicaciones de combustible en todo el cohete."
   ]
  },
  {
   "cell_type": "code",
   "execution_count": 1,
   "metadata": {},
   "outputs": [
    {
     "name": "stdout",
     "output_type": "stream",
     "text": [
      "20.0\n"
     ]
    }
   ],
   "source": [
    "def readTanks(tank1, tank2, tank3):\n",
    "    average = (tank1 + tank2 + tank3) / 3\n",
    "    return print(f\"\"\"\n",
    "    El promedio de los tanques es {average}\n",
    "    El tanque 1 tiene {tank1} litros,\n",
    "    El tanque 2 tiene {tank2} litros,\n",
    "    El tanque 3 tiene {tank3} litros\n",
    "    \"\"\")\n",
    "\n",
    "print(readTanks(10, 20, 30))"
   ]
  },
  {
   "cell_type": "code",
   "execution_count": 3,
   "metadata": {},
   "outputs": [
    {
     "name": "stdout",
     "output_type": "stream",
     "text": [
      "\n",
      "    El promedio de los tanques es 23.333333333333332\n",
      "    El tanque 1 tiene 20 litros,\n",
      "    El tanque 2 tiene 20 litros,\n",
      "    El tanque 3 tiene 30 litros\n",
      "    \n",
      "None\n"
     ]
    }
   ],
   "source": [
    "def average(tank1, tank2, tank3):\n",
    "    return (tank1 + tank2 + tank3) / 3\n",
    "\n",
    "def readTanks2(tank1, tank2, tank3):\n",
    "    \n",
    "    return print(f\"\"\"\n",
    "    El promedio de los tanques es {average(tank1, tank2, tank3)}\n",
    "    El tanque 1 tiene {tank1} litros,\n",
    "    El tanque 2 tiene {tank2} litros,\n",
    "    El tanque 3 tiene {tank3} litros\n",
    "    \"\"\")\n",
    "\n",
    "print(readTanks2(20, 20, 30))\n"
   ]
  },
  {
   "cell_type": "markdown",
   "metadata": {},
   "source": [
    "### Ejercio 2 \n",
    "\n",
    "##### Trabajar con argumentos de palabras clave en funciones: En este ejercicio, construirás un informe de cohete que requiere varias piezas de información, como el tiempo hasta el destino, el combustible a la izquierda y el nombre del destino. Comienza por crear una función que creará un informe preciso de la misión:"
   ]
  },
  {
   "cell_type": "code",
   "execution_count": 29,
   "metadata": {},
   "outputs": [
    {
     "name": "stdout",
     "output_type": "stream",
     "text": [
      " \n",
      "        El destino es México\n",
      "        El tiempo de vuelo es de 12\n",
      "        Las reservas de combustible son: 50\n",
      "    \n",
      "None\n"
     ]
    }
   ],
   "source": [
    "\n",
    "def missionReport(launchTime, flightTime, destination, externalTank, internalTank):\n",
    "    return print(f\"\"\"\n",
    "    La misión se lanzó a las {launchTime}\n",
    "    El tiempo de vuelo es de {flightTime}\n",
    "    El destino es {destination}\n",
    "    El tanque externo tiene {externalTank} litros\n",
    "    El tanque interno tiene {internalTank} litros\n",
    "    \"\"\")\n",
    "\n",
    "def missionReport2(*minutes, destination, **fuel_reservoirs):\n",
    "\n",
    "    return print(f\"\"\" \n",
    "        El destino es {destination}\n",
    "        El tiempo de vuelo es de {sum(minutes)}\n",
    "        Las reservas de combustible son: {sum(fuel_reservoirs.values())}\n",
    "    \"\"\")\n",
    "\n",
    "print(missionReport2( 10, 2, destination=\"México\", externalTank = 20, internalTank = 30))"
   ]
  },
  {
   "cell_type": "code",
   "execution_count": 27,
   "metadata": {},
   "outputs": [
    {
     "name": "stdout",
     "output_type": "stream",
     "text": [
      " \n",
      "        El destino es México\n",
      "        El tiempo de vuelo es de 12\n",
      "        El tanque de combustible tiene: 50\n",
      "        Las reservas de combustible son: {'externalTank': 20, 'internalTank': 30}\n",
      "    \n",
      "None\n"
     ]
    }
   ],
   "source": [
    "def missionReport3(*minutes, destination, **fuel_reservoirs):\n",
    "    return print(f\"\"\" \n",
    "        El destino es {destination}\n",
    "        El tiempo de vuelo es de {sum(minutes)}\n",
    "        El tanque de combustible tiene: {sum(fuel_reservoirs.values())}\n",
    "        Las reservas de combustible son: {fuel_reservoirs}\n",
    "    \"\"\")\n",
    "\n",
    "print(missionReport3( 10, 2, destination=\"México\", externalTank = 20, internalTank = 30))"
   ]
  }
 ],
 "metadata": {
  "interpreter": {
   "hash": "5fc9bb91b1f027f1261034847e021690f206d26570b0cbe1b9f9dfc5c4de14fd"
  },
  "kernelspec": {
   "display_name": "Python 3.10.2 64-bit",
   "language": "python",
   "name": "python3"
  },
  "language_info": {
   "codemirror_mode": {
    "name": "ipython",
    "version": 3
   },
   "file_extension": ".py",
   "mimetype": "text/x-python",
   "name": "python",
   "nbconvert_exporter": "python",
   "pygments_lexer": "ipython3",
   "version": "3.10.2"
  },
  "orig_nbformat": 4
 },
 "nbformat": 4,
 "nbformat_minor": 2
}
