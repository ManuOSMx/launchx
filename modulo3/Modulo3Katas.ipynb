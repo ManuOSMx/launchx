{
 "cells": [
  {
   "cell_type": "markdown",
   "metadata": {},
   "source": [
    "# Modulo 3 - Lógica Booleana\n",
    "Manuel Ortiz"
   ]
  },
  {
   "cell_type": "code",
   "execution_count": 1,
   "metadata": {},
   "outputs": [
    {
     "name": "stdout",
     "output_type": "stream",
     "text": [
      "La velocidad del asteroide es menor a 50 km/hr\n"
     ]
    }
   ],
   "source": [
    "vel = int(input(\"Ingrese la velocidad del asteroide: \"))\n",
    "if vel > 50:\n",
    "    print(\"Advertencia! La velocidad del asteroide es mayor a 50 km/hr\")\n",
    "else:\n",
    "    print(\"La velocidad del asteroide es menor a 50 km/hr\")"
   ]
  },
  {
   "cell_type": "code",
   "execution_count": 4,
   "metadata": {},
   "outputs": [
    {
     "name": "stdout",
     "output_type": "stream",
     "text": [
      "Hay un asteroide que se dirige a la tierra a una velocidad de 19 km/hr\n",
      "No te rindas, sigue buscando\n"
     ]
    }
   ],
   "source": [
    "\n",
    "velocidad = int(input(\"Ingrese la velocidad del asteroide: \"))\n",
    "if velocidad >= 20:\n",
    "    print(\"Hay un asteroide que se dirige a la tierra a una velocidad de +20 km/hr\")\n",
    "    ver = input(\"Puedes ver el rayo de luz desde la tierra? (si/no)\")\n",
    "    if ver.lower() == \"si\":\n",
    "        print(\"pronto toma una foto y compartela a tus contactos\")\n",
    "    elif ver.lower() == \"no\":\n",
    "        print(\"No te rindas, sigue buscando\")\n",
    "    else:\n",
    "        print(\"La respuesta que has ingresado no esta dentro de las opciones\")\n",
    "else:\n",
    "    print(\"No hay un asteroide que se dirige a la tierra a una velocidad de 19 km/hr\")"
   ]
  },
  {
   "cell_type": "code",
   "execution_count": 2,
   "metadata": {},
   "outputs": [
    {
     "name": "stdout",
     "output_type": "stream",
     "text": [
      "Es un asteroide pequenio, no corremos peligro\n",
      "Hay un asteroide que se dirige a la tierra a una velocidad de +20 km/hr\n",
      "La respuesta que has ingresado no esta dentro de las opciones\n"
     ]
    }
   ],
   "source": [
    "vel = int(input(\"Ingrese la velocidad del asteroide: \"))\n",
    "tam = int(input(\"Ingrese el tamaño del asteroide: \"))\n",
    "\n",
    "if tam <= 25:\n",
    "    print(\"Es un asteroide pequeño, no corremos peligro\")\n",
    "    if vel > 25:\n",
    "        print(\"Alerta! El asteroide se acerca a más de 25km/s\")\n",
    "    if vel >= 20:\n",
    "        print(\"Hay un asteroide que se dirige a la tierra a una velocidad de +20 km/hr\")\n",
    "        ver = input(\"Puedes ver el rayo de luz desde la tierra? (si/no)\")\n",
    "        if ver.lower() == \"si\":\n",
    "            print(\"pronto toma una foto y compartela a tus contactos\")\n",
    "        elif ver.lower() == \"no\":\n",
    "            print(\"No te rindas, sigue buscando\")\n",
    "        else:\n",
    "            print(\"La respuesta que has ingresado no esta dentro de las opciones\")\n",
    "    elif vel < 20:\n",
    "        print(\"No hay un asteroide que se dirige a la tierra a una velocidad de 19 km/hr\")\n",
    "    \n"
   ]
  }
 ],
 "metadata": {
  "interpreter": {
   "hash": "5fc9bb91b1f027f1261034847e021690f206d26570b0cbe1b9f9dfc5c4de14fd"
  },
  "kernelspec": {
   "display_name": "Python 3.10.2 64-bit",
   "language": "python",
   "name": "python3"
  },
  "language_info": {
   "codemirror_mode": {
    "name": "ipython",
    "version": 3
   },
   "file_extension": ".py",
   "mimetype": "text/x-python",
   "name": "python",
   "nbconvert_exporter": "python",
   "pygments_lexer": "ipython3",
   "version": "3.10.1"
  },
  "orig_nbformat": 4
 },
 "nbformat": 4,
 "nbformat_minor": 2
}
